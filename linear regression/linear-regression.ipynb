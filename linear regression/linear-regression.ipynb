{
 "cells": [
  {
   "cell_type": "markdown",
   "id": "79615994-f6a4-4bd2-b837-5244058f2182",
   "metadata": {},
   "source": [
    "## Basic Numpy"
   ]
  },
  {
   "cell_type": "code",
   "execution_count": null,
   "id": "7a7556c9-ed9f-4fb4-9648-174d72b1bdd9",
   "metadata": {},
   "outputs": [],
   "source": []
  },
  {
   "cell_type": "code",
   "execution_count": null,
   "id": "0a5051ec-bedb-4948-a222-ec33139a0d74",
   "metadata": {},
   "outputs": [],
   "source": []
  },
  {
   "cell_type": "code",
   "execution_count": null,
   "id": "98fb0242-ab26-4440-9c1d-804d503f5ec5",
   "metadata": {},
   "outputs": [],
   "source": []
  },
  {
   "cell_type": "code",
   "execution_count": null,
   "id": "0f27d922-fc32-464b-ac15-cbd1a7936b59",
   "metadata": {},
   "outputs": [],
   "source": []
  },
  {
   "cell_type": "markdown",
   "id": "58153252-2b8b-4354-83b7-787d3b9472f7",
   "metadata": {},
   "source": [
    "## Linear Regression "
   ]
  },
  {
   "cell_type": "code",
   "execution_count": null,
   "id": "f74e1896-a790-4897-a5c7-4d14f2983aa4",
   "metadata": {},
   "outputs": [],
   "source": []
  },
  {
   "cell_type": "code",
   "execution_count": 2,
   "id": "39f491e4-b67f-4495-92f7-26d7c7af1e58",
   "metadata": {},
   "outputs": [],
   "source": [
    "# Extract data"
   ]
  },
  {
   "cell_type": "code",
   "execution_count": null,
   "id": "252f2e38-ced4-4a95-8054-243b6e67931a",
   "metadata": {},
   "outputs": [],
   "source": []
  }
 ],
 "metadata": {
  "kernelspec": {
   "display_name": "Python 3 (ipykernel)",
   "language": "python",
   "name": "python3"
  },
  "language_info": {
   "codemirror_mode": {
    "name": "ipython",
    "version": 3
   },
   "file_extension": ".py",
   "mimetype": "text/x-python",
   "name": "python",
   "nbconvert_exporter": "python",
   "pygments_lexer": "ipython3",
   "version": "3.11.7"
  }
 },
 "nbformat": 4,
 "nbformat_minor": 5
}
