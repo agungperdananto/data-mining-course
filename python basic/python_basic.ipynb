{
 "cells": [
  {
   "cell_type": "markdown",
   "id": "df3b5486-e040-4836-9542-24c9a9a1396e",
   "metadata": {},
   "source": [
    "### Data Type"
   ]
  },
  {
   "cell_type": "markdown",
   "id": "657d428e-d3fa-487d-871c-5cb426bea919",
   "metadata": {},
   "source": [
    "### Data Type"
   ]
  },
  {
   "cell_type": "code",
   "execution_count": 27,
   "id": "2302acf0-d193-49b2-bbb8-0d317208e867",
   "metadata": {},
   "outputs": [
    {
     "name": "stdout",
     "output_type": "stream",
     "text": [
      "100 <class 'int'>\n",
      "100.0 <class 'float'>\n"
     ]
    }
   ],
   "source": [
    "# numbers: int, float\n",
    "\n",
    "number_int = 100\n",
    "\n",
    "number_float = 100.0\n",
    "\n",
    "print(number_int, type(number_int))\n",
    "print(number_float, type(number_float))"
   ]
  },
  {
   "cell_type": "code",
   "execution_count": 40,
   "id": "e7d9f15a-d790-4c34-8e4d-cc97c7d6e927",
   "metadata": {},
   "outputs": [
    {
     "name": "stdout",
     "output_type": "stream",
     "text": [
      "lorem ipsum <class 'str'>\n",
      "integer: 100 float: 100.0 string: lorem ipsum\n",
      "integer: 100 float: 100.00 string: lorem ipsum\n"
     ]
    }
   ],
   "source": [
    "# string\n",
    "\n",
    "word = 'lorem ipsum'\n",
    "\n",
    "print(word, type(word))\n",
    "\n",
    "# format\n",
    "text = f'integer: {number_int} float: {number_float} string: {word}'\n",
    "\n",
    "print(text)\n",
    "\n",
    "text = 'integer: {} float: {:.2f} string: {}'.format(number_int, number_float, word)\n",
    "print(text)"
   ]
  },
  {
   "cell_type": "code",
   "execution_count": 10,
   "id": "136930cb-a7d3-447c-b725-c878287a6387",
   "metadata": {},
   "outputs": [],
   "source": [
    "# boolean"
   ]
  },
  {
   "cell_type": "code",
   "execution_count": 45,
   "id": "d71a5833-f8f7-4678-906a-433c81d7e432",
   "metadata": {},
   "outputs": [
    {
     "name": "stdout",
     "output_type": "stream",
     "text": [
      "condition_1: False\n",
      "condition_2: True\n"
     ]
    }
   ],
   "source": [
    "x = 10\n",
    "y = 20\n",
    "condition_1 = x >= y\n",
    "\n",
    "condition_2 = x!= y\n",
    "\n",
    "print(f'condition_1: {condition_1}')\n",
    "\n",
    "print(f'condition_2: {condition_2}')\n"
   ]
  },
  {
   "cell_type": "code",
   "execution_count": 47,
   "id": "d94487c9-d41c-4667-822b-8955b70db338",
   "metadata": {},
   "outputs": [
    {
     "name": "stdout",
     "output_type": "stream",
     "text": [
      "condition_1 and condition_2: False\n",
      "condition_1 or condition_2: True\n"
     ]
    }
   ],
   "source": [
    "print(f'condition_1 and condition_2: {condition_1 and condition_2}')\n",
    "\n",
    "print(f'condition_1 or condition_2: {condition_1 or condition_2}')"
   ]
  },
  {
   "cell_type": "code",
   "execution_count": 49,
   "id": "27bc992e-53a6-4167-b083-94a54ccd0bde",
   "metadata": {},
   "outputs": [
    {
     "data": {
      "text/plain": [
       "type"
      ]
     },
     "execution_count": 49,
     "metadata": {},
     "output_type": "execute_result"
    }
   ],
   "source": [
    "type_1 = type(condition_1)\n"
   ]
  },
  {
   "cell_type": "markdown",
   "id": "689384e6-69a7-44c8-ab62-f0ad86f0dc9b",
   "metadata": {},
   "source": [
    "### Condition"
   ]
  },
  {
   "cell_type": "code",
   "execution_count": 12,
   "id": "23d69402-635b-4219-9ec4-2b2c07631c37",
   "metadata": {},
   "outputs": [],
   "source": [
    "# if "
   ]
  },
  {
   "cell_type": "code",
   "execution_count": 13,
   "id": "c432ee7b-0d6b-4e69-baf4-77281c2b91c4",
   "metadata": {},
   "outputs": [],
   "source": [
    "# if-else"
   ]
  },
  {
   "cell_type": "code",
   "execution_count": 14,
   "id": "35cf1b43-c9bf-4880-b23f-1ebb2f502bf9",
   "metadata": {},
   "outputs": [],
   "source": [
    "# if-elif-else"
   ]
  },
  {
   "cell_type": "code",
   "execution_count": null,
   "id": "4111f3d1-97c9-4edd-b243-ff44a9fdb75f",
   "metadata": {},
   "outputs": [],
   "source": []
  },
  {
   "cell_type": "markdown",
   "id": "3e1a9a03-61ec-4922-b450-4a6d13c26aab",
   "metadata": {},
   "source": [
    "### Looping"
   ]
  },
  {
   "cell_type": "code",
   "execution_count": 15,
   "id": "77b9a982-c9c7-4650-9c32-30d1ac3e9e20",
   "metadata": {},
   "outputs": [],
   "source": [
    "# for loop"
   ]
  },
  {
   "cell_type": "code",
   "execution_count": 16,
   "id": "7cded0d6-0a3a-4aaf-9b75-c3ede7bf3a3c",
   "metadata": {},
   "outputs": [],
   "source": [
    "# while loop"
   ]
  },
  {
   "cell_type": "code",
   "execution_count": 18,
   "id": "26194ef6-dcad-41d9-b92e-347bfcbe22ba",
   "metadata": {},
   "outputs": [],
   "source": [
    "# comprehension for-loop"
   ]
  },
  {
   "cell_type": "markdown",
   "id": "50d6c6f8-caf9-4032-8a27-85e42c23e925",
   "metadata": {},
   "source": [
    "### List, Tuple, Dictionary"
   ]
  },
  {
   "cell_type": "code",
   "execution_count": 22,
   "id": "1127cba5-950a-48ad-8512-74e67e92f89b",
   "metadata": {},
   "outputs": [],
   "source": [
    "# list"
   ]
  },
  {
   "cell_type": "code",
   "execution_count": 23,
   "id": "9f20ae95-1fa0-48b9-a892-1c79668d61b8",
   "metadata": {},
   "outputs": [],
   "source": [
    "# list method"
   ]
  },
  {
   "cell_type": "code",
   "execution_count": 24,
   "id": "6f2b5315-7f0e-45d6-91f2-d2fb62675df7",
   "metadata": {},
   "outputs": [],
   "source": [
    "# tuple"
   ]
  },
  {
   "cell_type": "code",
   "execution_count": 25,
   "id": "c0b1049d-e098-4d42-b159-66bb6a71d909",
   "metadata": {},
   "outputs": [],
   "source": [
    "# dict "
   ]
  },
  {
   "cell_type": "code",
   "execution_count": 25,
   "id": "a7bf65a4-4f74-47a3-bed4-d205ee6d4afe",
   "metadata": {},
   "outputs": [],
   "source": [
    "# dict method"
   ]
  },
  {
   "cell_type": "markdown",
   "id": "0b2198c0-e34e-4fb3-b626-b1789ebd4a4f",
   "metadata": {},
   "source": [
    "### Slicing"
   ]
  },
  {
   "cell_type": "code",
   "execution_count": null,
   "id": "049efbc4-035e-418f-af5e-df5f81c2de56",
   "metadata": {},
   "outputs": [],
   "source": []
  },
  {
   "cell_type": "code",
   "execution_count": null,
   "id": "2d559ba2-e1ac-48fd-ae9d-f4f862a84404",
   "metadata": {},
   "outputs": [],
   "source": []
  },
  {
   "cell_type": "code",
   "execution_count": null,
   "id": "1384a838-9939-41a2-aac2-4fd8d29a56b6",
   "metadata": {},
   "outputs": [],
   "source": []
  },
  {
   "cell_type": "markdown",
   "id": "41848b86-936e-4f57-a5ab-4b61b9730023",
   "metadata": {},
   "source": [
    "### Function"
   ]
  },
  {
   "cell_type": "code",
   "execution_count": null,
   "id": "464c9fc7-2f05-4b0d-ab19-85a90f646f72",
   "metadata": {},
   "outputs": [],
   "source": []
  },
  {
   "cell_type": "code",
   "execution_count": null,
   "id": "e1914e5e-c4c2-461e-ba4b-f0067fcfada4",
   "metadata": {},
   "outputs": [],
   "source": []
  },
  {
   "cell_type": "code",
   "execution_count": null,
   "id": "f14143ab-3a51-4480-a860-b13e8a5ca2ce",
   "metadata": {},
   "outputs": [],
   "source": []
  },
  {
   "cell_type": "markdown",
   "id": "707e03ea-136b-420a-b7bf-1e1d48f66296",
   "metadata": {},
   "source": [
    "### Type hint"
   ]
  },
  {
   "cell_type": "code",
   "execution_count": null,
   "id": "c379c745-99fb-4311-85aa-a9056f87eca5",
   "metadata": {},
   "outputs": [],
   "source": []
  },
  {
   "cell_type": "code",
   "execution_count": null,
   "id": "e7ab59aa-f61a-494b-9661-2766fa11df4b",
   "metadata": {},
   "outputs": [],
   "source": []
  },
  {
   "cell_type": "code",
   "execution_count": null,
   "id": "25b1e5ee-b804-451c-9123-d89d3115d62b",
   "metadata": {},
   "outputs": [],
   "source": []
  },
  {
   "cell_type": "code",
   "execution_count": null,
   "id": "dc6073a2-1003-47b8-803b-7aa12c5bcf6b",
   "metadata": {},
   "outputs": [],
   "source": []
  },
  {
   "cell_type": "code",
   "execution_count": null,
   "id": "7dc42a05-0b51-484c-9fce-369b799903ed",
   "metadata": {},
   "outputs": [],
   "source": []
  }
 ],
 "metadata": {
  "kernelspec": {
   "display_name": "Python 3 (ipykernel)",
   "language": "python",
   "name": "python3"
  },
  "language_info": {
   "codemirror_mode": {
    "name": "ipython",
    "version": 3
   },
   "file_extension": ".py",
   "mimetype": "text/x-python",
   "name": "python",
   "nbconvert_exporter": "python",
   "pygments_lexer": "ipython3",
   "version": "3.11.7"
  }
 },
 "nbformat": 4,
 "nbformat_minor": 5
}
