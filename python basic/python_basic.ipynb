{
 "cells": [
  {
   "cell_type": "markdown",
   "id": "657d428e-d3fa-487d-871c-5cb426bea919",
   "metadata": {},
   "source": [
    "### Data Type"
   ]
  },
  {
   "cell_type": "code",
   "execution_count": 3,
   "id": "2302acf0-d193-49b2-bbb8-0d317208e867",
   "metadata": {},
   "outputs": [
    {
     "name": "stdout",
     "output_type": "stream",
     "text": [
      "100 <class 'int'>\n",
      "100.0 <class 'float'>\n"
     ]
    }
   ],
   "source": [
    "# numbers: int, float\n",
    "\n",
    "number_int = 100\n",
    "\n",
    "number_float = 100.0\n",
    "\n",
    "print(number_int, type(number_int))\n",
    "print(number_float, type(number_float))"
   ]
  },
  {
   "cell_type": "code",
   "execution_count": 4,
   "id": "e7d9f15a-d790-4c34-8e4d-cc97c7d6e927",
   "metadata": {},
   "outputs": [
    {
     "name": "stdout",
     "output_type": "stream",
     "text": [
      "lorem ipsum <class 'str'>\n",
      "integer: 100 float: 100.0 string: lorem ipsum\n",
      "integer: 100 float: 100.00 string: lorem ipsum\n"
     ]
    }
   ],
   "source": [
    "# string\n",
    "\n",
    "word = 'lorem ipsum'\n",
    "\n",
    "print(word, type(word))\n",
    "\n",
    "# format\n",
    "text = f'integer: {number_int} float: {number_float} string: {word}'\n",
    "\n",
    "print(text)\n",
    "\n",
    "text = 'integer: {} float: {:.2f} string: {}'.format(number_int, number_float, word)\n",
    "print(text)"
   ]
  },
  {
   "cell_type": "code",
   "execution_count": 5,
   "id": "136930cb-a7d3-447c-b725-c878287a6387",
   "metadata": {},
   "outputs": [],
   "source": [
    "# boolean"
   ]
  },
  {
   "cell_type": "code",
   "execution_count": 6,
   "id": "d71a5833-f8f7-4678-906a-433c81d7e432",
   "metadata": {},
   "outputs": [
    {
     "name": "stdout",
     "output_type": "stream",
     "text": [
      "condition_1: False\n",
      "condition_2: True\n"
     ]
    }
   ],
   "source": [
    "x = 10\n",
    "y = 20\n",
    "condition_1 = x >= y\n",
    "\n",
    "condition_2 = x!= y\n",
    "\n",
    "print(f'condition_1: {condition_1}')\n",
    "\n",
    "print(f'condition_2: {condition_2}')\n"
   ]
  },
  {
   "cell_type": "code",
   "execution_count": 7,
   "id": "d94487c9-d41c-4667-822b-8955b70db338",
   "metadata": {},
   "outputs": [
    {
     "name": "stdout",
     "output_type": "stream",
     "text": [
      "condition_1 and condition_2: False\n",
      "condition_1 or condition_2: True\n"
     ]
    }
   ],
   "source": [
    "print(f'condition_1 and condition_2: {condition_1 and condition_2}')\n",
    "\n",
    "print(f'condition_1 or condition_2: {condition_1 or condition_2}')"
   ]
  },
  {
   "cell_type": "code",
   "execution_count": 8,
   "id": "27bc992e-53a6-4167-b083-94a54ccd0bde",
   "metadata": {},
   "outputs": [],
   "source": [
    "type_1 = type(condition_1)\n"
   ]
  },
  {
   "cell_type": "markdown",
   "id": "689384e6-69a7-44c8-ab62-f0ad86f0dc9b",
   "metadata": {},
   "source": [
    "### Condition"
   ]
  },
  {
   "cell_type": "code",
   "execution_count": 9,
   "id": "23d69402-635b-4219-9ec4-2b2c07631c37",
   "metadata": {},
   "outputs": [
    {
     "name": "stdout",
     "output_type": "stream",
     "text": [
      "above 20\n"
     ]
    }
   ],
   "source": [
    "# if \n",
    "\n",
    "x = 100\n",
    "\n",
    "if x >= 20: \n",
    "    print('above 20')"
   ]
  },
  {
   "cell_type": "code",
   "execution_count": 10,
   "id": "c432ee7b-0d6b-4e69-baf4-77281c2b91c4",
   "metadata": {},
   "outputs": [
    {
     "name": "stdout",
     "output_type": "stream",
     "text": [
      "under 20\n"
     ]
    }
   ],
   "source": [
    "# if-else\n",
    "x = 10.05\n",
    "\n",
    "if x >= 20: \n",
    "    print('above 20')\n",
    "else: \n",
    "    print('under 20')"
   ]
  },
  {
   "cell_type": "code",
   "execution_count": 11,
   "id": "35cf1b43-c9bf-4880-b23f-1ebb2f502bf9",
   "metadata": {},
   "outputs": [
    {
     "name": "stdout",
     "output_type": "stream",
     "text": [
      "10.05\n",
      "under 20\n"
     ]
    }
   ],
   "source": [
    "# if-elif-else\n",
    "print(x)\n",
    "if x < 20:\n",
    "    print('under 20')\n",
    "elif 20<=x<=70:\n",
    "    print('between 20 and 70')\n",
    "else:\n",
    "    print('above 70')"
   ]
  },
  {
   "cell_type": "code",
   "execution_count": 12,
   "id": "4111f3d1-97c9-4edd-b243-ff44a9fdb75f",
   "metadata": {},
   "outputs": [
    {
     "name": "stdout",
     "output_type": "stream",
     "text": [
      "10.05\n",
      "10.05\n"
     ]
    }
   ],
   "source": [
    "# one liner condition\n",
    "print(x)\n",
    "value = x if x<20 else x/2\n",
    "\n",
    "print(value)\n"
   ]
  },
  {
   "cell_type": "markdown",
   "id": "3e1a9a03-61ec-4922-b450-4a6d13c26aab",
   "metadata": {},
   "source": [
    "### Looping"
   ]
  },
  {
   "cell_type": "code",
   "execution_count": 13,
   "id": "77b9a982-c9c7-4650-9c32-30d1ac3e9e20",
   "metadata": {},
   "outputs": [
    {
     "name": "stdout",
     "output_type": "stream",
     "text": [
      "0\n",
      "1\n",
      "2\n",
      "3\n",
      "4\n",
      "\n",
      "* \n",
      "* * \n",
      "* * * \n",
      "* * * * \n"
     ]
    }
   ],
   "source": [
    "# for loop\n",
    "\n",
    "for x in range(5):\n",
    "    print(x)\n",
    "\n",
    "for x in range(5):\n",
    "    for _ in range(x):\n",
    "        print('*' , end= ' ')\n",
    "    print('')"
   ]
  },
  {
   "cell_type": "code",
   "execution_count": 14,
   "id": "7cded0d6-0a3a-4aaf-9b75-c3ede7bf3a3c",
   "metadata": {},
   "outputs": [
    {
     "name": "stdout",
     "output_type": "stream",
     "text": [
      "1\n",
      "2\n",
      "3\n",
      "4\n",
      "5\n"
     ]
    }
   ],
   "source": [
    "# while loop\n",
    "\n",
    "i = 1\n",
    "while i < 6:\n",
    "  print(i)\n",
    "  i += 1"
   ]
  },
  {
   "cell_type": "code",
   "execution_count": 15,
   "id": "7916ed90-c59e-4ab9-803c-86aa7ba3bcf8",
   "metadata": {},
   "outputs": [
    {
     "name": "stdout",
     "output_type": "stream",
     "text": [
      "1 <== check odd numbers\n",
      "2\n",
      "3 <== check odd numbers\n",
      "4\n",
      "5 <== check odd numbers\n",
      "6\n",
      "7 <== check odd numbers\n",
      "8\n",
      "9 <== check odd numbers\n"
     ]
    }
   ],
   "source": [
    "i = 1\n",
    "while i < 10:\n",
    "    print(i, end= '')\n",
    "    if i % 2 != 0:\n",
    "        print(' <== check odd numbers')\n",
    "    else:\n",
    "        print('')\n",
    "    i += 1"
   ]
  },
  {
   "cell_type": "code",
   "execution_count": 16,
   "id": "26194ef6-dcad-41d9-b92e-347bfcbe22ba",
   "metadata": {},
   "outputs": [
    {
     "name": "stdout",
     "output_type": "stream",
     "text": [
      "[0, 1, 2, 3, 4, 5, 6, 7, 8, 9]\n"
     ]
    }
   ],
   "source": [
    "# comprehension for-loop\n",
    "\n",
    "data = [x for x in range(10)]\n",
    "print(data)"
   ]
  },
  {
   "cell_type": "code",
   "execution_count": 17,
   "id": "d8e3d9e7-01e2-4635-bc08-9881a3984e8f",
   "metadata": {},
   "outputs": [
    {
     "name": "stdout",
     "output_type": "stream",
     "text": [
      "[0, 2, 4, 6, 8]\n"
     ]
    }
   ],
   "source": [
    "even_number = [x for x in range(10) if x%2 == 0]\n",
    "print(even_number)"
   ]
  },
  {
   "cell_type": "code",
   "execution_count": 18,
   "id": "3709e129-debc-48e1-a8d8-a58d8718db10",
   "metadata": {},
   "outputs": [
    {
     "name": "stdout",
     "output_type": "stream",
     "text": [
      "[[0], [0, 1], [0, 1, 2], [0, 1, 2, 3], [0, 1, 2, 3, 4], [0, 1, 2, 3, 4, 5], [0, 1, 2, 3, 4, 5, 6], [0, 1, 2, 3, 4, 5, 6, 7], [0, 1, 2, 3, 4, 5, 6, 7, 8]]\n"
     ]
    }
   ],
   "source": [
    "nested_number = [ [y for y in range(x)]for x in range(1, 10) ]\n",
    "\n",
    "print(nested_number)"
   ]
  },
  {
   "cell_type": "markdown",
   "id": "50d6c6f8-caf9-4032-8a27-85e42c23e925",
   "metadata": {},
   "source": [
    "### List, Tuple, Dictionary"
   ]
  },
  {
   "cell_type": "code",
   "execution_count": 19,
   "id": "1127cba5-950a-48ad-8512-74e67e92f89b",
   "metadata": {},
   "outputs": [
    {
     "name": "stdout",
     "output_type": "stream",
     "text": [
      "<class 'list'>\n",
      "[1, 2, 3, 4, 5, 6, 7, 8, 9]\n"
     ]
    }
   ],
   "source": [
    "# list\n",
    "\n",
    "print(type(data))\n",
    "\n",
    "len_data = [len(x) for x in nested_number]\n",
    "\n",
    "print(len_data)\n",
    "\n"
   ]
  },
  {
   "cell_type": "code",
   "execution_count": 45,
   "id": "9f20ae95-1fa0-48b9-a892-1c79668d61b8",
   "metadata": {},
   "outputs": [
    {
     "name": "stdout",
     "output_type": "stream",
     "text": [
      "letters 1: ['a', 'b', 'c', 'd', 'e', 'f', 'g', 'h', 'i', 'j', 'k', 'l', 'm', 'n', 'o', 'p', 'q', 'r', 's', 't', 'u', 'v', 'w', 'x', 'y', 'z']\n",
      "letters 2: k\n",
      "letters 3: ['a', 'b', 'c', 'd', 'e', 'f', 'g', 'h', 'i', 'j', 'k', 'l', 'm', 'n', 'o', 'p', 'q', 'r', 's', 't', 'u', 'v', 'w', 'x', 'y', 'z', 'A', 'B']\n",
      "letters 4: ['a', 'b', 'c', 'd', 'e', 'f', 'g', 'h', 'i', 'j', 'k', 'l', 'm', 'n', 'o', 'p', 'q', 'r', 's', 't', 'u', 'v', 'w', 'x', 'y', 'z', 'A', 'B', 'X', 'Y', 'Z']\n",
      "letters 5: ['a', 'b', 'AB', 'd', 'e', 'f', 'g', 'h', 'i', 'j', 'k', 'l', 'm', 'n', 'o', 'p', 'q', 'r', 's', 't', 'u', 'v', 'w', 'x', 'y', 'z', 'A', 'B', 'X', 'Y', 'Z']\n",
      "letter before delete: k\n",
      "letter after delete: l\n",
      "letters without q: ['a', 'b', 'AB', 'd', 'e', 'f', 'g', 'h', 'i', 'j', 'l', 'm', 'n', 'o', 'p', 'r', 's', 't', 'u', 'v', 'w', 'x', 'y', 'z', 'A', 'B', 'X', 'Y', 'Z']\n",
      "popped value l\n",
      "letters without popped letter ['a', 'b', 'AB', 'd', 'e', 'f', 'g', 'h', 'i', 'j', 'm', 'n', 'o', 'p', 'r', 's', 't', 'u', 'v', 'w', 'x', 'y', 'z', 'A', 'B', 'X', 'Y', 'Z']\n"
     ]
    }
   ],
   "source": [
    "# list method\n",
    "letters = [chr(x) for x in range(ord('a'), ord('z') + 1)]\n",
    "\n",
    "print('letters 1:', letters)\n",
    "\n",
    "print('letters 2:', letters[10]) # index 10 'k'\n",
    "# append\n",
    "letters.append('A')\n",
    "letters.append('B')\n",
    "\n",
    "print('letters 3:', letters)\n",
    "\n",
    "# extend\n",
    "letters.extend(['X', 'Y', 'Z'])\n",
    "print('letters 4:', letters)\n",
    "               \n",
    "\n",
    "# update\n",
    "letters[2] = 'AB'\n",
    "print('letters 5:', letters)\n",
    "\n",
    "# delete\n",
    "\n",
    "print('letter before delete:', letters[10])\n",
    "\n",
    "del letters[10]\n",
    "\n",
    "print('letter after delete:', letters[10])\n",
    "\n",
    "letters.remove('q')\n",
    "print('letters without q:', letters)\n",
    "\n",
    "# pop\n",
    "value = letters.pop(10)\n",
    "print('popped value', value)\n",
    "\n",
    "print('letters without popped letter', letters)\n"
   ]
  },
  {
   "cell_type": "code",
   "execution_count": 48,
   "id": "6f2b5315-7f0e-45d6-91f2-d2fb62675df7",
   "metadata": {},
   "outputs": [
    {
     "name": "stdout",
     "output_type": "stream",
     "text": [
      "new letter tuple: ('a', 'b', 'c', 'd', 'e', 'f', 'g', 'h', 'i', 'j', 'k', 'l', 'm', 'n', 'o', 'p', 'q', 'r', 's', 't', 'u', 'v', 'w', 'x', 'y', 'z')\n",
      "previous letters (from list): ('a', 'b', 'AB', 'd', 'e', 'f', 'g', 'h', 'i', 'j', 'm', 'n', 'o', 'p', 'r', 's', 't', 'u', 'v', 'w', 'x', 'y', 'z', 'A', 'B', 'X', 'Y', 'Z')\n"
     ]
    }
   ],
   "source": [
    "# tuple\n",
    "letters_tuple = tuple(chr(x) for x in range(ord('a'), ord('z') + 1))\n",
    "\n",
    "print('new letter tuple:', letters_tuple)\n",
    "\n",
    "print('previous letters (from list):', tuple(letters))"
   ]
  },
  {
   "cell_type": "code",
   "execution_count": 67,
   "id": "c0b1049d-e098-4d42-b159-66bb6a71d909",
   "metadata": {},
   "outputs": [
    {
     "name": "stdout",
     "output_type": "stream",
     "text": [
      "hadir: 8.571428571428571\n",
      "tugas: 14.0\n",
      "uts: 24.0\n",
      "uas: 38.8\n",
      "total_nilai: 85.37142857142857\n",
      "total_nilai (pembulatan): 85.37\n",
      "total_points: 79.8\n",
      "total_points (pembulatan): 79.8\n"
     ]
    }
   ],
   "source": [
    "# dict \n",
    "max_hadir = 14\n",
    "exam_weight = {'hadir': 10, 'tugas':20, 'uts': 30, 'uas': 40} \n",
    "siswa_1 = {'hadir': 12, 'tugas': 70, 'uts': 80, 'uas': 97}\n",
    "\n",
    "siswa_2 = {'hadir': 14, 'tugas': 80, 'uts': 90, 'uas': 67}\n",
    "\n",
    "# nilai real dengan bobot:\n",
    "hadir = siswa_1['hadir'] / max_hadir * exam_weight['hadir']\n",
    "print('hadir:', hadir)\n",
    "tugas = siswa_1['tugas'] * exam_weight['tugas'] / 100\n",
    "print('tugas:', tugas)\n",
    "uts = siswa_1['uts'] * exam_weight['uts'] / 100\n",
    "print('uts:', uts)\n",
    "uas = siswa_1['uas'] * exam_weight['uas'] / 100\n",
    "print('uas:', uas)\n",
    "\n",
    "total_nilai = hadir + tugas + uts + uas\n",
    "print('total_nilai:', total_nilai)\n",
    "print('total_nilai (pembulatan):', round(total_nilai, 2))\n",
    "\n",
    "# Menggunakan for loop\n",
    "total_points = 0\n",
    "for k, v in siswa_2.items():\n",
    "    if k == 'hadir':\n",
    "        total_points += v / max_hadir * exam_weight[k]\n",
    "    else:\n",
    "        total_points += v * exam_weight[k] / 100\n",
    "\n",
    "print('total_points:', total_points)\n",
    "print('total_points (pembulatan):', round(total_points, 2))"
   ]
  },
  {
   "cell_type": "code",
   "execution_count": null,
   "id": "338f20a6-7593-4a57-bd45-d6ac22188616",
   "metadata": {},
   "outputs": [],
   "source": []
  },
  {
   "cell_type": "markdown",
   "id": "0b2198c0-e34e-4fb3-b626-b1789ebd4a4f",
   "metadata": {},
   "source": [
    "### Slicing"
   ]
  },
  {
   "cell_type": "code",
   "execution_count": 74,
   "id": "049efbc4-035e-418f-af5e-df5f81c2de56",
   "metadata": {},
   "outputs": [
    {
     "name": "stdout",
     "output_type": "stream",
     "text": [
      "b\n",
      "range: ['m', 'n', 'o', 'p']\n",
      "from beginning: ['a', 'b', 'AB', 'd', 'e', 'f', 'g', 'h', 'i', 'j', 'm', 'n', 'o', 'p']\n",
      "to the end: ['r', 's', 't', 'u', 'v', 'w', 'x', 'y', 'z', 'A', 'B', 'X', 'Y', 'Z']\n"
     ]
    }
   ],
   "source": [
    "print(letters[1])\n",
    "\n",
    "print('range:', letters[10:14])\n",
    "\n",
    "print('from beginning:', letters[:14])\n",
    "\n",
    "print('to the end:', letters[14:])"
   ]
  },
  {
   "cell_type": "code",
   "execution_count": 83,
   "id": "2d559ba2-e1ac-48fd-ae9d-f4f862a84404",
   "metadata": {},
   "outputs": [
    {
     "name": "stdout",
     "output_type": "stream",
     "text": [
      "step 2: ['a', 'AB', 'e', 'g', 'i', 'm', 'o', 'r', 't', 'v', 'x', 'z', 'B', 'Y']\n",
      "step 3, start from 1: ('b', 'e', 'h', 'k', 'n', 'q', 't', 'w', 'z')\n",
      "step -1: ('z', 'y', 'x', 'w', 'v', 'u', 't', 's', 'r', 'q', 'p', 'o', 'n', 'm', 'l', 'k', 'j', 'i', 'h', 'g', 'f', 'e', 'd', 'c', 'b', 'a')\n",
      "step -2, from index 5: ('p', 'n', 'l', 'j', 'h', 'f', 'd', 'b')\n"
     ]
    }
   ],
   "source": [
    "# step forward\n",
    "print('step 2:', letters[::2])\n",
    "\n",
    "print('step 3, start from 1:', letters_tuple[1::3])\n",
    "\n",
    "# step backward\n",
    "\n",
    "print('step -1:', letters_tuple[::-1])\n",
    "\n",
    "print('step -2, from index 5:', letters_tuple[15::-2])"
   ]
  },
  {
   "cell_type": "code",
   "execution_count": null,
   "id": "1384a838-9939-41a2-aac2-4fd8d29a56b6",
   "metadata": {},
   "outputs": [],
   "source": []
  },
  {
   "cell_type": "markdown",
   "id": "41848b86-936e-4f57-a5ab-4b61b9730023",
   "metadata": {},
   "source": [
    "### Function"
   ]
  },
  {
   "cell_type": "code",
   "execution_count": 86,
   "id": "464c9fc7-2f05-4b0d-ab19-85a90f646f72",
   "metadata": {},
   "outputs": [],
   "source": [
    "def get_total_nilai(nilai_siswa):\n",
    "    total_points = 0\n",
    "    for k, v in nilai_siswa.items():\n",
    "        if k == 'hadir':\n",
    "            total_points += v / max_hadir * exam_weight[k]\n",
    "        else:\n",
    "            total_points += v * exam_weight[k] / 100\n",
    "    return round(total_points,2)"
   ]
  },
  {
   "cell_type": "code",
   "execution_count": 88,
   "id": "e1914e5e-c4c2-461e-ba4b-f0067fcfada4",
   "metadata": {},
   "outputs": [
    {
     "name": "stdout",
     "output_type": "stream",
     "text": [
      "nilai siswa 1: 85.37\n",
      "nilai siswa 2: 79.8\n"
     ]
    }
   ],
   "source": [
    "print('nilai siswa 1:', get_total_nilai(siswa_1))\n",
    "print('nilai siswa 2:', get_total_nilai(siswa_2))"
   ]
  },
  {
   "cell_type": "code",
   "execution_count": 90,
   "id": "f14143ab-3a51-4480-a860-b13e8a5ca2ce",
   "metadata": {},
   "outputs": [],
   "source": [
    "nilai_kelas = [\n",
    "    {'hadir': 12, 'tugas': 90, 'uts': 60, 'uas': 77},\n",
    "    {'hadir': 14, 'tugas': 60, 'uts': 80, 'uas': 57},\n",
    "    {'hadir': 9, 'tugas': 80, 'uts': 80, 'uas': 55},\n",
    "    {'hadir': 14, 'tugas': 97, 'uts': 87, 'uas': 80},\n",
    "    {'hadir': 10, 'tugas': 88, 'uts': 78, 'uas': 75}\n",
    "]"
   ]
  },
  {
   "cell_type": "code",
   "execution_count": 98,
   "id": "c73efe19-83bd-4d73-b91b-380e686ccf59",
   "metadata": {},
   "outputs": [
    {
     "name": "stdout",
     "output_type": "stream",
     "text": [
      "siswa1: 75.37\n",
      "siswa2: 68.8\n",
      "siswa3: 68.43\n",
      "siswa4: 87.5\n",
      "siswa5: 78.14\n",
      "in list form: [75.37, 68.8, 68.43, 87.5, 78.14]\n"
     ]
    }
   ],
   "source": [
    "# hitung nilai\n",
    "for index, nilai in enumerate(nilai_kelas):\n",
    "    print(f'siswa{index+1}: {get_total_nilai(nilai)}')\n",
    "\n",
    "# using lambda\n",
    "counted_value = [get_total_nilai(nilai) for nilai in nilai_kelas]\n",
    "\n",
    "print('in list form:', counted_value)"
   ]
  },
  {
   "cell_type": "code",
   "execution_count": null,
   "id": "b0dcad57-4473-44c3-a315-6824b6b52fda",
   "metadata": {},
   "outputs": [],
   "source": []
  },
  {
   "cell_type": "markdown",
   "id": "0a950b38-c85d-448b-aaac-abd96853161e",
   "metadata": {},
   "source": [
    "### Exercise"
   ]
  },
  {
   "cell_type": "code",
   "execution_count": 111,
   "id": "4537d2ef-308e-4821-b0f2-68c2207d1755",
   "metadata": {},
   "outputs": [
    {
     "data": {
      "text/plain": [
       "'nama: Iwan, total_nilai: 90, grade: A, dinyatakan lulus'"
      ]
     },
     "execution_count": 111,
     "metadata": {},
     "output_type": "execute_result"
    }
   ],
   "source": [
    "max_hadir = 14\n",
    "exam_weight = {'hadir': 10, 'tugas':20, 'uts': 30, 'uas': 40} \n",
    "\n",
    "# grade \n",
    "# 0 <= nilai < 50: E\n",
    "# 50 <= nilai <  60: D\n",
    "# 60 <= nilai <  70: C\n",
    "# 70 <= nilai <  85: B\n",
    "# 85 <= nilai <=  100: A\n",
    "\n",
    "# nilai A, B => Lulus\n",
    "# nilai C => lulus bersyarat\n",
    "# nilai D, E => tidak lulus\n",
    "\n",
    "data_siswa = [\n",
    "    {'nama': 'Iwan', 'nilai': {'hadir': 12, 'tugas': 90, 'uts': 60, 'uas': 77}},\n",
    "    {'nama': 'Lisa', 'nilai': {'hadir': 14, 'tugas': 60, 'uts': 80, 'uas': 57}},\n",
    "    {'nama': 'Tono', 'nilai': {'hadir': 14, 'tugas': 50, 'uts': 30, 'uas': 60}},\n",
    "    {'nama': 'Richard', 'nilai': {'hadir': 12, 'tugas': 50, 'uts': 50, 'uas': 37}},\n",
    "    {'nama': 'Wawan', 'nilai': {'hadir': 7, 'tugas': 50, 'uts': 55, 'uas': 47}},\n",
    "    {'nama': 'Maman', 'nilai': {'hadir': 14, 'tugas': 90, 'uts': 70, 'uas': 87}},\n",
    "    {'nama': 'Lala', 'nilai': {'hadir': 12, 'tugas': 70, 'uts': 65, 'uas': 75}},\n",
    "    {'nama': 'Cipto', 'nilai': {'hadir': 12, 'tugas': 80, 'uts': 77, 'uas': 88}}\n",
    "]\n",
    "\n",
    "# output \n",
    "'nama: Iwan, total_nilai: 90, grade: A, dinyatakan lulus'"
   ]
  },
  {
   "cell_type": "markdown",
   "id": "a096207b-e543-4f85-b381-df06b756c79b",
   "metadata": {},
   "source": [
    "### Answer"
   ]
  },
  {
   "cell_type": "code",
   "execution_count": 109,
   "id": "903b4f9d-0750-4fdf-8c9c-a19cbd33c060",
   "metadata": {},
   "outputs": [
    {
     "name": "stdout",
     "output_type": "stream",
     "text": [
      "nama: Iwan, total_nilai: 75.37, grade: B, dinyatakan lulus\n",
      "nama: Lisa, total_nilai: 68.8, grade: C, dinyatakan lulus bersyarat\n",
      "nama: Tono, total_nilai: 53.0, grade: D, dinyatakan tidak lulus\n",
      "nama: Richard, total_nilai: 48.37, grade: E, dinyatakan tidak lulus\n",
      "nama: Wawan, total_nilai: 50.3, grade: D, dinyatakan tidak lulus\n",
      "nama: Maman, total_nilai: 83.8, grade: B, dinyatakan lulus\n",
      "nama: Lala, total_nilai: 72.07, grade: B, dinyatakan lulus\n",
      "nama: Cipto, total_nilai: 82.87, grade: B, dinyatakan lulus\n"
     ]
    }
   ],
   "source": [
    "max_hadir = 14\n",
    "exam_weight = {'hadir': 10, 'tugas':20, 'uts': 30, 'uas': 40} \n",
    "\n",
    "# grade = {range(0, 50): 'E', range(50, 60): 'D', range(60, 70): 'C', range(70, 85): 'B', range(85, 100): 'A'}\n",
    "\n",
    "results = {'A': 'lulus', 'B': 'lulus', 'C': 'lulus bersyarat', 'D': 'tidak lulus', 'E': 'tidak lulus'}\n",
    "\n",
    "def get_grade(total):\n",
    "    if 85 <= total <= 100:\n",
    "        return 'A'\n",
    "    if 70 <= total < 85:\n",
    "        return 'B'\n",
    "    if 60 <= total < 70:\n",
    "        return 'C'\n",
    "    if 50 <= total < 60:\n",
    "        return 'D'\n",
    "    if 0 <= total < 50:\n",
    "        return 'E'\n",
    "    \n",
    "\n",
    "def get_total_nilai(nilai_siswa):\n",
    "    total_points = 0\n",
    "    for k, v in nilai_siswa.items():\n",
    "        if k == 'hadir':\n",
    "            total_points += v / max_hadir * exam_weight[k]\n",
    "        else:\n",
    "            total_points += v * exam_weight[k] / 100\n",
    "\n",
    "    grade = get_grade(total_points)\n",
    "    final_result = results[grade]\n",
    "    return round(total_points,2), grade, final_result\n",
    "\n",
    "for siswa in data_siswa:\n",
    "\n",
    "    points, grade, result = get_total_nilai(siswa['nilai'])\n",
    "    nama_siswa = siswa['nama']\n",
    "    print(f'nama: {nama_siswa}, total_nilai: {points}, grade: {grade}, dinyatakan {result}')\n"
   ]
  },
  {
   "cell_type": "code",
   "execution_count": null,
   "id": "34f6d008-7430-49b2-b647-4b003946f876",
   "metadata": {},
   "outputs": [],
   "source": []
  },
  {
   "cell_type": "code",
   "execution_count": null,
   "id": "3b7dd52a-ee54-4acd-b94e-12495f816a93",
   "metadata": {},
   "outputs": [],
   "source": []
  }
 ],
 "metadata": {
  "kernelspec": {
   "display_name": "Python 3 (ipykernel)",
   "language": "python",
   "name": "python3"
  },
  "language_info": {
   "codemirror_mode": {
    "name": "ipython",
    "version": 3
   },
   "file_extension": ".py",
   "mimetype": "text/x-python",
   "name": "python",
   "nbconvert_exporter": "python",
   "pygments_lexer": "ipython3",
   "version": "3.11.7"
  }
 },
 "nbformat": 4,
 "nbformat_minor": 5
}
