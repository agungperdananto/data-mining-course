{
 "cells": [
  {
   "cell_type": "markdown",
   "id": "cda52d4f",
   "metadata": {},
   "source": [
    "### Soal Tipe Data"
   ]
  },
  {
   "cell_type": "code",
   "execution_count": 27,
   "id": "636e5dab",
   "metadata": {},
   "outputs": [],
   "source": [
    "# data\n",
    "\n",
    "company_name_list = [{'name': 'Company 1'},\n",
    "          {'name': 'Company 2'},\n",
    "          {'name': 'Company 3'}]\n",
    "\n",
    "employee_name_list = [{'name': 'John Doe'},\n",
    "          {'name': 'Tom Smith'},\n",
    "          {'name': 'Andrew Sebastian'}]\n",
    "\n",
    "company_detail_list = {\n",
    "      'Company 1': {\n",
    "          'name': 'Company 1',\n",
    "          'domain': 'Retail',\n",
    "          'clients': [\n",
    "              {\n",
    "                  'name': 'acme.inc',\n",
    "                  'country': 'united states'\n",
    "              },\n",
    "              {\n",
    "                  'name': 'Wayne.co',\n",
    "                  'country': 'united states'\n",
    "              }\n",
    "          ]\n",
    "      },\n",
    "      'Company 2': {\n",
    "          'name': 'Company 2',\n",
    "          'domain': 'Construction',\n",
    "          'clients': [\n",
    "              {\n",
    "                  'name': 'Tesla',\n",
    "                  'country': 'united states'\n",
    "              },\n",
    "              {\n",
    "                  'name': 'Japan Airlines',\n",
    "                  'country': 'japan'\n",
    "              },\n",
    "              {\n",
    "                  'name': 'Indofood',\n",
    "                  'country': 'indonesia'\n",
    "              }\n",
    "          ]\n",
    "      },\n",
    "      'Company 3': {\n",
    "          'name': 'Company 3',\n",
    "          'domain': 'Healthcare',\n",
    "          'clients': [\n",
    "              {\n",
    "                  'name': 'Petronas',\n",
    "                  'country': 'malaysia'\n",
    "              },\n",
    "              {\n",
    "                  'name': 'VW Group',\n",
    "                  'country': 'germany'\n",
    "              },\n",
    "              {\n",
    "                  'name': 'IBM',\n",
    "                  'country': 'united states'\n",
    "              },\n",
    "              {\n",
    "                  'name': 'Mitsubishi',\n",
    "                  'country': 'japan'\n",
    "              }\n",
    "          ]\n",
    "      }\n",
    "  }\n",
    "\n",
    "employee_detail_list = {\n",
    "      'John Doe': {\n",
    "          'name': 'EMP-0001',\n",
    "          'first_name': 'John',\n",
    "          'last_name': 'Doe',\n",
    "          'full_name': 'John Doe',\n",
    "          'company': 'Company 1'\n",
    "      },\n",
    "      'Tom Smith': {\n",
    "          'name': 'EMP-0002',\n",
    "          'first_name': 'Tom',\n",
    "          'last_name': 'Smith',\n",
    "          'full_name': 'Tom Smith',\n",
    "          'company': 'Company 2'\n",
    "      },\n",
    "      'Andrew Sebastian': {\n",
    "          'name': 'EMP-0003',\n",
    "          'first_name': 'Andrew',\n",
    "          'last_name': 'Sebastian',\n",
    "          'full_name': 'Andrew Sebastian',\n",
    "          'company': 'Company 2'\n",
    "      },\n",
    "  }"
   ]
  },
  {
   "cell_type": "markdown",
   "id": "e018570b",
   "metadata": {},
   "source": [
    "#### Petunjuk:\n",
    "Dari data di atas kerjakan soal di bawah untuk nomor **1 - 4**, sebisa mungkin gunakan comprehension loop apabila ada perulangan:"
   ]
  },
  {
   "cell_type": "markdown",
   "id": "6033790d",
   "metadata": {},
   "source": [
    "### 1 \n",
    "Please get the list of all Companies and sort by **Company Domain** in reverse order.\n",
    "\n",
    "Expected result:\n",
    "\n",
    "\n",
    "```json\n",
    "[{\n",
    "    \"name\": \"Company 1\", \n",
    "    \"domain\": \"Retail\"\n",
    "}, {\n",
    "    \"name\": \"Company 3\", \n",
    "    \"domain\": \"Healthcare\"\n",
    "}, {\n",
    "    \"name\": \"Company 2\", \n",
    "    \"domain\": \"Construction\"\n",
    "}]\n",
    "```"
   ]
  },
  {
   "cell_type": "code",
   "execution_count": 25,
   "id": "0e6fdb51",
   "metadata": {},
   "outputs": [],
   "source": [
    "# lengkapi function berikut\n",
    "def sort_company():\n",
    "    pass"
   ]
  },
  {
   "cell_type": "markdown",
   "id": "2eb10341",
   "metadata": {},
   "source": [
    "### 2\n",
    "Please print all Domain value in every company.\n",
    "\n",
    "Expected return:\n",
    "\n",
    "```\n",
    "Company 1: Retail, relation: 2 clients\n",
    "Company 2: Construction, relation: 3 clients\n",
    "Company 3: Healthcare, relation: 4 clients\n",
    "```"
   ]
  },
  {
   "cell_type": "code",
   "execution_count": 29,
   "id": "a4acd65a",
   "metadata": {},
   "outputs": [],
   "source": [
    "# lengkapi function berikut\n",
    "def get_company_domain():\n",
    "    pass"
   ]
  },
  {
   "cell_type": "markdown",
   "id": "eec62329",
   "metadata": {},
   "source": [
    "### 3\n",
    "Create a function that return employees with it's company domain.\n",
    "\n",
    "Expected return:\n",
    "\n",
    "\n",
    "```json\n",
    "[{\n",
    "    \"full_name\": \"John Doe\",\n",
    "    \"company\": \"Company 1\",\n",
    "    \"domain\": \"Retail\"\n",
    "}, {\n",
    "    \"full_name\": \"Tom Smith\",\n",
    "    \"company\": \"Company 2\",\n",
    "    \"domain\": \"Construction\"\n",
    "}, {\n",
    "    \"full_name\": \"Andrew Sebastian\",\n",
    "    \"company\": \"Company 2\",\n",
    "    \"domain\": \"Construction\"\n",
    "}]\n",
    "```"
   ]
  },
  {
   "cell_type": "code",
   "execution_count": 45,
   "id": "ac7115d8",
   "metadata": {},
   "outputs": [],
   "source": [
    "# lengkapi function berikut\n",
    "def get_employees():\n",
    "    pass"
   ]
  },
  {
   "cell_type": "markdown",
   "id": "d16fbc2a",
   "metadata": {},
   "source": [
    "### 4\n",
    "Create a function that return companies with list of employees that are working in the company.\n",
    "\n",
    "Expected return:\n",
    "\n",
    "\n",
    "```json\n",
    "[{\n",
    "    \"company\": \"Company 1\",\n",
    "    \"employees\": [\"John Doe\"]\n",
    "}, {\n",
    "    \"company\": \"Company 2\",\n",
    "    \"employees\": [\"Tom Smith\", \"Andrew Sebastian\"]\n",
    "}, {\n",
    "    \"company\": \"Company 3\",\n",
    "    \"employees\": []\n",
    "}]\n",
    "```"
   ]
  },
  {
   "cell_type": "code",
   "execution_count": 31,
   "id": "6bff2ae9",
   "metadata": {},
   "outputs": [],
   "source": [
    "# lengkapi function berikut\n",
    "def get_employees_by_company():\n",
    "    pass"
   ]
  },
  {
   "cell_type": "markdown",
   "id": "7b27ffc4",
   "metadata": {},
   "source": [
    "### Soal pre-processing data"
   ]
  },
  {
   "cell_type": "code",
   "execution_count": 33,
   "id": "053e86c2",
   "metadata": {},
   "outputs": [],
   "source": [
    "import pandas as pd"
   ]
  },
  {
   "cell_type": "code",
   "execution_count": 36,
   "id": "97aabf99",
   "metadata": {},
   "outputs": [],
   "source": [
    "data_startup = pd.read_csv('50_Startups.csv')"
   ]
  },
  {
   "cell_type": "code",
   "execution_count": 44,
   "id": "4d7b5cda",
   "metadata": {},
   "outputs": [
    {
     "data": {
      "text/html": [
       "<div>\n",
       "<style scoped>\n",
       "    .dataframe tbody tr th:only-of-type {\n",
       "        vertical-align: middle;\n",
       "    }\n",
       "\n",
       "    .dataframe tbody tr th {\n",
       "        vertical-align: top;\n",
       "    }\n",
       "\n",
       "    .dataframe thead th {\n",
       "        text-align: right;\n",
       "    }\n",
       "</style>\n",
       "<table border=\"1\" class=\"dataframe\">\n",
       "  <thead>\n",
       "    <tr style=\"text-align: right;\">\n",
       "      <th></th>\n",
       "      <th>R&amp;D Spend</th>\n",
       "      <th>Administration</th>\n",
       "      <th>Marketing Spend</th>\n",
       "      <th>State</th>\n",
       "      <th>Profit</th>\n",
       "    </tr>\n",
       "  </thead>\n",
       "  <tbody>\n",
       "    <tr>\n",
       "      <th>45</th>\n",
       "      <td>1000.23</td>\n",
       "      <td>124153.04</td>\n",
       "      <td>1903.93</td>\n",
       "      <td>New York</td>\n",
       "      <td>64926.08</td>\n",
       "    </tr>\n",
       "    <tr>\n",
       "      <th>10</th>\n",
       "      <td>NaN</td>\n",
       "      <td>110594.11</td>\n",
       "      <td>229160.95</td>\n",
       "      <td>Florida</td>\n",
       "      <td>146121.95</td>\n",
       "    </tr>\n",
       "    <tr>\n",
       "      <th>20</th>\n",
       "      <td>76253.86</td>\n",
       "      <td>113867.30</td>\n",
       "      <td>298664.47</td>\n",
       "      <td>California</td>\n",
       "      <td>118474.03</td>\n",
       "    </tr>\n",
       "    <tr>\n",
       "      <th>32</th>\n",
       "      <td>63408.86</td>\n",
       "      <td>129219.61</td>\n",
       "      <td>46085.25</td>\n",
       "      <td>California</td>\n",
       "      <td>97427.84</td>\n",
       "    </tr>\n",
       "    <tr>\n",
       "      <th>40</th>\n",
       "      <td>28754.33</td>\n",
       "      <td>118546.05</td>\n",
       "      <td>172795.67</td>\n",
       "      <td>California</td>\n",
       "      <td>78239.91</td>\n",
       "    </tr>\n",
       "    <tr>\n",
       "      <th>14</th>\n",
       "      <td>119943.24</td>\n",
       "      <td>156547.42</td>\n",
       "      <td>256512.92</td>\n",
       "      <td>Florida</td>\n",
       "      <td>132602.65</td>\n",
       "    </tr>\n",
       "    <tr>\n",
       "      <th>6</th>\n",
       "      <td>134615.46</td>\n",
       "      <td>147198.87</td>\n",
       "      <td>127716.82</td>\n",
       "      <td>California</td>\n",
       "      <td>156122.51</td>\n",
       "    </tr>\n",
       "  </tbody>\n",
       "</table>\n",
       "</div>"
      ],
      "text/plain": [
       "    R&D Spend  Administration  Marketing Spend       State     Profit\n",
       "45    1000.23       124153.04          1903.93    New York   64926.08\n",
       "10        NaN       110594.11        229160.95     Florida  146121.95\n",
       "20   76253.86       113867.30        298664.47  California  118474.03\n",
       "32   63408.86       129219.61         46085.25  California   97427.84\n",
       "40   28754.33       118546.05        172795.67  California   78239.91\n",
       "14  119943.24       156547.42        256512.92     Florida  132602.65\n",
       "6   134615.46       147198.87        127716.82  California  156122.51"
      ]
     },
     "execution_count": 44,
     "metadata": {},
     "output_type": "execute_result"
    }
   ],
   "source": [
    "data_startup.sample(7)"
   ]
  },
  {
   "cell_type": "markdown",
   "id": "edd9b66b",
   "metadata": {},
   "source": [
    "### Soal\n",
    "Dari data di atas lakukan pre-processing sbb:\n",
    "1. Lakukan analisa mengenai field mana saja yang memiliki data kosong(Nan) lalu Isi data yang kosong tersebut menggunakan nilai mean\n",
    "2. lakukan oneHotEncoder ke field state\n",
    "3. buat field baru yaitu Tax. dimana Tax = (profit + Marketing Spend + administration) * 5%\n",
    "4. Jalankan standardScaler field-field tersebut"
   ]
  },
  {
   "cell_type": "markdown",
   "id": "90ec992c",
   "metadata": {},
   "source": [
    "### Ketentuan dan Deadline\n",
    "\n",
    "1. Buat masing-masing repositori di github account\n",
    "2. Soal dikerjakan di repositori tsb.\n",
    "3. Jawaban yang dikumpulkan di **e-learning** merupakan link github dari repositori di atas.\n",
    "4. Deadline pengumpulan soal adalah hari rabu, 15 Mei 2024 pukul 23:59."
   ]
  }
 ],
 "metadata": {
  "kernelspec": {
   "display_name": "Python 3 (ipykernel)",
   "language": "python",
   "name": "python3"
  },
  "language_info": {
   "codemirror_mode": {
    "name": "ipython",
    "version": 3
   },
   "file_extension": ".py",
   "mimetype": "text/x-python",
   "name": "python",
   "nbconvert_exporter": "python",
   "pygments_lexer": "ipython3",
   "version": "3.11.7"
  }
 },
 "nbformat": 4,
 "nbformat_minor": 5
}
