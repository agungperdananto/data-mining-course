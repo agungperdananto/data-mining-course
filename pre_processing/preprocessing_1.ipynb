{
 "cells": [
  {
   "cell_type": "code",
   "execution_count": 39,
   "metadata": {},
   "outputs": [],
   "source": [
    "# Import library\n",
    "import pandas as pd\n",
    "import numpy as np\n",
    "\n",
    "from sklearn.preprocessing import LabelEncoder, OneHotEncoder, StandardScaler\n",
    "from sklearn.impute import SimpleImputer\n",
    "from sklearn.compose import ColumnTransformer \n",
    "    "
   ]
  },
  {
   "cell_type": "code",
   "execution_count": 40,
   "metadata": {},
   "outputs": [],
   "source": [
    "data = pd.read_csv('Data.csv')"
   ]
  },
  {
   "cell_type": "code",
   "execution_count": 41,
   "metadata": {},
   "outputs": [
    {
     "data": {
      "text/html": [
       "<div>\n",
       "<style scoped>\n",
       "    .dataframe tbody tr th:only-of-type {\n",
       "        vertical-align: middle;\n",
       "    }\n",
       "\n",
       "    .dataframe tbody tr th {\n",
       "        vertical-align: top;\n",
       "    }\n",
       "\n",
       "    .dataframe thead th {\n",
       "        text-align: right;\n",
       "    }\n",
       "</style>\n",
       "<table border=\"1\" class=\"dataframe\">\n",
       "  <thead>\n",
       "    <tr style=\"text-align: right;\">\n",
       "      <th></th>\n",
       "      <th>Country</th>\n",
       "      <th>Age</th>\n",
       "      <th>Salary</th>\n",
       "      <th>Purchased</th>\n",
       "    </tr>\n",
       "  </thead>\n",
       "  <tbody>\n",
       "    <tr>\n",
       "      <th>0</th>\n",
       "      <td>France</td>\n",
       "      <td>44.0</td>\n",
       "      <td>72000.0</td>\n",
       "      <td>No</td>\n",
       "    </tr>\n",
       "    <tr>\n",
       "      <th>1</th>\n",
       "      <td>Spain</td>\n",
       "      <td>27.0</td>\n",
       "      <td>48000.0</td>\n",
       "      <td>Yes</td>\n",
       "    </tr>\n",
       "    <tr>\n",
       "      <th>2</th>\n",
       "      <td>Germany</td>\n",
       "      <td>30.0</td>\n",
       "      <td>54000.0</td>\n",
       "      <td>No</td>\n",
       "    </tr>\n",
       "    <tr>\n",
       "      <th>3</th>\n",
       "      <td>Spain</td>\n",
       "      <td>38.0</td>\n",
       "      <td>61000.0</td>\n",
       "      <td>No</td>\n",
       "    </tr>\n",
       "    <tr>\n",
       "      <th>4</th>\n",
       "      <td>Germany</td>\n",
       "      <td>40.0</td>\n",
       "      <td>NaN</td>\n",
       "      <td>Yes</td>\n",
       "    </tr>\n",
       "  </tbody>\n",
       "</table>\n",
       "</div>"
      ],
      "text/plain": [
       "   Country   Age   Salary Purchased\n",
       "0   France  44.0  72000.0        No\n",
       "1    Spain  27.0  48000.0       Yes\n",
       "2  Germany  30.0  54000.0        No\n",
       "3    Spain  38.0  61000.0        No\n",
       "4  Germany  40.0      NaN       Yes"
      ]
     },
     "execution_count": 41,
     "metadata": {},
     "output_type": "execute_result"
    }
   ],
   "source": [
    "data.head()"
   ]
  },
  {
   "cell_type": "code",
   "execution_count": 42,
   "metadata": {},
   "outputs": [
    {
     "data": {
      "text/plain": [
       "array([['France', 44.0, 72000.0],\n",
       "       ['Spain', 27.0, 48000.0],\n",
       "       ['Germany', 30.0, 54000.0],\n",
       "       ['Spain', 38.0, 61000.0],\n",
       "       ['Germany', 40.0, nan],\n",
       "       ['France', 35.0, 58000.0],\n",
       "       ['Spain', nan, 52000.0],\n",
       "       ['France', 48.0, 79000.0],\n",
       "       ['Germany', 50.0, 83000.0],\n",
       "       ['France', 37.0, 67000.0]], dtype=object)"
      ]
     },
     "execution_count": 42,
     "metadata": {},
     "output_type": "execute_result"
    }
   ],
   "source": [
    "X = data.iloc[:,:-1].values\n",
    "X"
   ]
  },
  {
   "cell_type": "code",
   "execution_count": 43,
   "metadata": {},
   "outputs": [
    {
     "data": {
      "text/plain": [
       "array(['No', 'Yes', 'No', 'No', 'Yes', 'Yes', 'No', 'Yes', 'No', 'Yes'],\n",
       "      dtype=object)"
      ]
     },
     "execution_count": 43,
     "metadata": {},
     "output_type": "execute_result"
    }
   ],
   "source": [
    "y = data.iloc[:, -1].values\n",
    "y"
   ]
  },
  {
   "cell_type": "code",
   "execution_count": 44,
   "metadata": {},
   "outputs": [],
   "source": [
    "imputer = SimpleImputer(missing_values=np.nan, strategy='mean')\n",
    "imputer.fit(X[:, 1:])\n",
    "X[:, 1:] = imputer.transform(X[:, 1:])"
   ]
  },
  {
   "cell_type": "code",
   "execution_count": 45,
   "metadata": {},
   "outputs": [
    {
     "data": {
      "text/plain": [
       "array([['France', 44.0, 72000.0],\n",
       "       ['Spain', 27.0, 48000.0],\n",
       "       ['Germany', 30.0, 54000.0],\n",
       "       ['Spain', 38.0, 61000.0],\n",
       "       ['Germany', 40.0, 63777.77777777778],\n",
       "       ['France', 35.0, 58000.0],\n",
       "       ['Spain', 38.77777777777778, 52000.0],\n",
       "       ['France', 48.0, 79000.0],\n",
       "       ['Germany', 50.0, 83000.0],\n",
       "       ['France', 37.0, 67000.0]], dtype=object)"
      ]
     },
     "execution_count": 45,
     "metadata": {},
     "output_type": "execute_result"
    }
   ],
   "source": [
    "X"
   ]
  },
  {
   "cell_type": "code",
   "execution_count": 48,
   "metadata": {},
   "outputs": [
    {
     "data": {
      "text/plain": [
       "array([[0, 44.0, 72000.0],\n",
       "       [2, 27.0, 48000.0],\n",
       "       [1, 30.0, 54000.0],\n",
       "       [2, 38.0, 61000.0],\n",
       "       [1, 40.0, 63777.77777777778],\n",
       "       [0, 35.0, 58000.0],\n",
       "       [2, 38.77777777777778, 52000.0],\n",
       "       [0, 48.0, 79000.0],\n",
       "       [1, 50.0, 83000.0],\n",
       "       [0, 37.0, 67000.0]], dtype=object)"
      ]
     },
     "execution_count": 48,
     "metadata": {},
     "output_type": "execute_result"
    }
   ],
   "source": [
    "label_encoder = LabelEncoder()\n",
    "X[:, 0] =label_encoder.fit_transform(X[:,0])\n",
    "X"
   ]
  },
  {
   "cell_type": "code",
   "execution_count": 47,
   "metadata": {},
   "outputs": [
    {
     "ename": "SyntaxError",
     "evalue": "unmatched ')' (3305975024.py, line 2)",
     "output_type": "error",
     "traceback": [
      "\u001b[0;36m  Cell \u001b[0;32mIn[47], line 2\u001b[0;36m\u001b[0m\n\u001b[0;31m    ct = ColumnTransformer([(\"Name_Of_Your_Step\", OneHotEncoder(),[0])], remainder=\"passthrough\"))\u001b[0m\n\u001b[0m                                                                                                 ^\u001b[0m\n\u001b[0;31mSyntaxError\u001b[0m\u001b[0;31m:\u001b[0m unmatched ')'\n"
     ]
    }
   ],
   "source": [
    "one_hot_encoder = OneHotEncoder(categories=X[0])\n",
    "ct = ColumnTransformer([(\"Name_Of_Your_Step\", OneHotEncoder(),[0])], remainder=\"passthrough\")\n",
    "X = ct.fit_transform(X).toarray()   \n",
    "# X = one_hot_encoder.fit_transform(X).toarray()\n",
    "df = pd.DataFrame(X)\n",
    "df"
   ]
  },
  {
   "cell_type": "code",
   "execution_count": 14,
   "metadata": {},
   "outputs": [
    {
     "data": {
      "text/plain": [
       "array([[1, 0, 0, 0, 0, 0, 0, 0, 0, 0, 1, 0, 0, 0, 0, 0, 0, 0, 0, 0, 1, 0,\n",
       "        0],\n",
       "       [0, 0, 1, 1, 0, 0, 0, 0, 0, 0, 0, 0, 0, 1, 0, 0, 0, 0, 0, 0, 0, 0,\n",
       "        0],\n",
       "       [0, 1, 0, 0, 1, 0, 0, 0, 0, 0, 0, 0, 0, 0, 0, 1, 0, 0, 0, 0, 0, 0,\n",
       "        0],\n",
       "       [0, 0, 1, 0, 0, 0, 0, 1, 0, 0, 0, 0, 0, 0, 0, 0, 0, 1, 0, 0, 0, 0,\n",
       "        0],\n",
       "       [0, 1, 0, 0, 0, 0, 0, 0, 0, 1, 0, 0, 0, 0, 0, 0, 0, 0, 1, 0, 0, 0,\n",
       "        0],\n",
       "       [1, 0, 0, 0, 0, 1, 0, 0, 0, 0, 0, 0, 0, 0, 0, 0, 1, 0, 0, 0, 0, 0,\n",
       "        0],\n",
       "       [0, 0, 1, 0, 0, 0, 0, 0, 1, 0, 0, 0, 0, 0, 1, 0, 0, 0, 0, 0, 0, 0,\n",
       "        0],\n",
       "       [1, 0, 0, 0, 0, 0, 0, 0, 0, 0, 0, 1, 0, 0, 0, 0, 0, 0, 0, 0, 0, 1,\n",
       "        0],\n",
       "       [0, 1, 0, 0, 0, 0, 0, 0, 0, 0, 0, 0, 1, 0, 0, 0, 0, 0, 0, 0, 0, 0,\n",
       "        1],\n",
       "       [1, 0, 0, 0, 0, 0, 1, 0, 0, 0, 0, 0, 0, 0, 0, 0, 0, 0, 0, 1, 0, 0,\n",
       "        0]])"
      ]
     },
     "execution_count": 14,
     "metadata": {},
     "output_type": "execute_result"
    }
   ],
   "source": [
    "X =X.astype(int)\n",
    "X"
   ]
  },
  {
   "cell_type": "code",
   "execution_count": 15,
   "metadata": {},
   "outputs": [
    {
     "data": {
      "text/plain": [
       "array([[ 1.22474487, -0.65465367, -0.65465367, -0.33333333, -0.33333333,\n",
       "        -0.33333333, -0.33333333, -0.33333333, -0.33333333, -0.33333333,\n",
       "         3.        , -0.33333333, -0.33333333, -0.33333333, -0.33333333,\n",
       "        -0.33333333, -0.33333333, -0.33333333, -0.33333333, -0.33333333,\n",
       "         3.        , -0.33333333, -0.33333333],\n",
       "       [-0.81649658, -0.65465367,  1.52752523,  3.        , -0.33333333,\n",
       "        -0.33333333, -0.33333333, -0.33333333, -0.33333333, -0.33333333,\n",
       "        -0.33333333, -0.33333333, -0.33333333,  3.        , -0.33333333,\n",
       "        -0.33333333, -0.33333333, -0.33333333, -0.33333333, -0.33333333,\n",
       "        -0.33333333, -0.33333333, -0.33333333],\n",
       "       [-0.81649658,  1.52752523, -0.65465367, -0.33333333,  3.        ,\n",
       "        -0.33333333, -0.33333333, -0.33333333, -0.33333333, -0.33333333,\n",
       "        -0.33333333, -0.33333333, -0.33333333, -0.33333333, -0.33333333,\n",
       "         3.        , -0.33333333, -0.33333333, -0.33333333, -0.33333333,\n",
       "        -0.33333333, -0.33333333, -0.33333333],\n",
       "       [-0.81649658, -0.65465367,  1.52752523, -0.33333333, -0.33333333,\n",
       "        -0.33333333, -0.33333333,  3.        , -0.33333333, -0.33333333,\n",
       "        -0.33333333, -0.33333333, -0.33333333, -0.33333333, -0.33333333,\n",
       "        -0.33333333, -0.33333333,  3.        , -0.33333333, -0.33333333,\n",
       "        -0.33333333, -0.33333333, -0.33333333],\n",
       "       [-0.81649658,  1.52752523, -0.65465367, -0.33333333, -0.33333333,\n",
       "        -0.33333333, -0.33333333, -0.33333333, -0.33333333,  3.        ,\n",
       "        -0.33333333, -0.33333333, -0.33333333, -0.33333333, -0.33333333,\n",
       "        -0.33333333, -0.33333333, -0.33333333,  3.        , -0.33333333,\n",
       "        -0.33333333, -0.33333333, -0.33333333],\n",
       "       [ 1.22474487, -0.65465367, -0.65465367, -0.33333333, -0.33333333,\n",
       "         3.        , -0.33333333, -0.33333333, -0.33333333, -0.33333333,\n",
       "        -0.33333333, -0.33333333, -0.33333333, -0.33333333, -0.33333333,\n",
       "        -0.33333333,  3.        , -0.33333333, -0.33333333, -0.33333333,\n",
       "        -0.33333333, -0.33333333, -0.33333333],\n",
       "       [-0.81649658, -0.65465367,  1.52752523, -0.33333333, -0.33333333,\n",
       "        -0.33333333, -0.33333333, -0.33333333,  3.        , -0.33333333,\n",
       "        -0.33333333, -0.33333333, -0.33333333, -0.33333333,  3.        ,\n",
       "        -0.33333333, -0.33333333, -0.33333333, -0.33333333, -0.33333333,\n",
       "        -0.33333333, -0.33333333, -0.33333333],\n",
       "       [ 1.22474487, -0.65465367, -0.65465367, -0.33333333, -0.33333333,\n",
       "        -0.33333333, -0.33333333, -0.33333333, -0.33333333, -0.33333333,\n",
       "        -0.33333333,  3.        , -0.33333333, -0.33333333, -0.33333333,\n",
       "        -0.33333333, -0.33333333, -0.33333333, -0.33333333, -0.33333333,\n",
       "        -0.33333333,  3.        , -0.33333333],\n",
       "       [-0.81649658,  1.52752523, -0.65465367, -0.33333333, -0.33333333,\n",
       "        -0.33333333, -0.33333333, -0.33333333, -0.33333333, -0.33333333,\n",
       "        -0.33333333, -0.33333333,  3.        , -0.33333333, -0.33333333,\n",
       "        -0.33333333, -0.33333333, -0.33333333, -0.33333333, -0.33333333,\n",
       "        -0.33333333, -0.33333333,  3.        ],\n",
       "       [ 1.22474487, -0.65465367, -0.65465367, -0.33333333, -0.33333333,\n",
       "        -0.33333333,  3.        , -0.33333333, -0.33333333, -0.33333333,\n",
       "        -0.33333333, -0.33333333, -0.33333333, -0.33333333, -0.33333333,\n",
       "        -0.33333333, -0.33333333, -0.33333333, -0.33333333,  3.        ,\n",
       "        -0.33333333, -0.33333333, -0.33333333]])"
      ]
     },
     "execution_count": 15,
     "metadata": {},
     "output_type": "execute_result"
    }
   ],
   "source": [
    "sc = StandardScaler()\n",
    "X = sc.fit_transform(X)\n",
    "X"
   ]
  },
  {
   "cell_type": "code",
   "execution_count": null,
   "metadata": {},
   "outputs": [],
   "source": []
  }
 ],
 "metadata": {
  "kernelspec": {
   "display_name": "Python 3 (ipykernel)",
   "language": "python",
   "name": "python3"
  },
  "language_info": {
   "codemirror_mode": {
    "name": "ipython",
    "version": 3
   },
   "file_extension": ".py",
   "mimetype": "text/x-python",
   "name": "python",
   "nbconvert_exporter": "python",
   "pygments_lexer": "ipython3",
   "version": "3.11.7"
  }
 },
 "nbformat": 4,
 "nbformat_minor": 4
}
